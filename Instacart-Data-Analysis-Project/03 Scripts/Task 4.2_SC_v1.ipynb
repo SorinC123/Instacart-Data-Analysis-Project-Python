{
 "cells": [
  {
   "cell_type": "markdown",
   "id": "961ea1f6-826b-4482-a4e4-e697e4fbad4a",
   "metadata": {},
   "source": [
    "# Importing Libraries\n"
   ]
  },
  {
   "cell_type": "code",
   "execution_count": 3,
   "id": "4da1d991-086b-4eae-ae94-ae8654f58ea0",
   "metadata": {},
   "outputs": [],
   "source": [
    "# Import libraries\n",
    "import pandas as pd\n",
    "import numpy as np\n",
    "import os"
   ]
  },
  {
   "cell_type": "markdown",
   "id": "aae9dece-47dc-4f74-867c-965a7c8bbc36",
   "metadata": {},
   "source": [
    "# Python Data Types"
   ]
  },
  {
   "cell_type": "markdown",
   "id": "5baefb85-ced8-4712-aa74-2197403a8ea4",
   "metadata": {},
   "source": [
    "# Step 7"
   ]
  },
  {
   "cell_type": "code",
   "execution_count": 34,
   "id": "db61e265-b2b6-42a2-87cf-507db505c0b1",
   "metadata": {},
   "outputs": [
    {
     "name": "stdout",
     "output_type": "stream",
     "text": [
      "100\n"
     ]
    }
   ],
   "source": [
    "x=20\n",
    "y=5\n",
    "z=75\n",
    "print(x+y+z)"
   ]
  },
  {
   "cell_type": "code",
   "execution_count": 36,
   "id": "b29d5a9c-fb6a-4e4c-8dc0-54af72c63295",
   "metadata": {},
   "outputs": [
    {
     "name": "stdout",
     "output_type": "stream",
     "text": [
      "100\n"
     ]
    }
   ],
   "source": [
    "x=200\n",
    "y=70\n",
    "z=30\n",
    "print(x-70-30)"
   ]
  },
  {
   "cell_type": "code",
   "execution_count": 38,
   "id": "b8e129a2-4450-4ae9-8d8c-ca7fc94d12f6",
   "metadata": {},
   "outputs": [
    {
     "name": "stdout",
     "output_type": "stream",
     "text": [
      "100\n"
     ]
    }
   ],
   "source": [
    "x=3000\n",
    "y=2950\n",
    "z=50\n",
    "print(x-y+z)"
   ]
  },
  {
   "cell_type": "markdown",
   "id": "c1b57e5f-9e47-477c-81b7-2b86ec4c6565",
   "metadata": {},
   "source": [
    "# Step 8"
   ]
  },
  {
   "cell_type": "code",
   "execution_count": 41,
   "id": "667c3f19-7e0f-460a-9d5d-ff7d53665568",
   "metadata": {},
   "outputs": [
    {
     "name": "stdout",
     "output_type": "stream",
     "text": [
      "68.73144876325088\n"
     ]
    }
   ],
   "source": [
    "x=1750.59\n",
    "y=25.47\n",
    "print(x/y)"
   ]
  },
  {
   "cell_type": "markdown",
   "id": "08258b54-5bfb-4e52-83d9-158a6e3b2dd9",
   "metadata": {},
   "source": [
    "# Step 9"
   ]
  },
  {
   "cell_type": "code",
   "execution_count": 44,
   "id": "ff918d23-e845-402f-adfc-76b4b2d2bd30",
   "metadata": {},
   "outputs": [
    {
     "data": {
      "text/plain": [
       "'Netflix'"
      ]
     },
     "execution_count": 44,
     "metadata": {},
     "output_type": "execute_result"
    }
   ],
   "source": [
    "x='Net'\n",
    "y='flix'\n",
    "x+y"
   ]
  },
  {
   "cell_type": "markdown",
   "id": "bf15dae7-dd35-48f1-a0ae-20fbb4470ea8",
   "metadata": {},
   "source": [
    "# Step 10"
   ]
  },
  {
   "cell_type": "code",
   "execution_count": 56,
   "id": "d3ff517c-f381-44df-8902-e2571aec9022",
   "metadata": {},
   "outputs": [
    {
     "data": {
      "text/plain": [
       "'Anaconda is beautiful.'"
      ]
     },
     "execution_count": 56,
     "metadata": {},
     "output_type": "execute_result"
    }
   ],
   "source": [
    "x='Anaconda '\n",
    "y='is '\n",
    "z='beautiful.'\n",
    "x+y+z"
   ]
  },
  {
   "cell_type": "code",
   "execution_count": 58,
   "id": "e6662d2d-5417-4e0e-89b9-3fb8df595b13",
   "metadata": {},
   "outputs": [
    {
     "data": {
      "text/plain": [
       "'Netflix can become adictive.'"
      ]
     },
     "execution_count": 58,
     "metadata": {},
     "output_type": "execute_result"
    }
   ],
   "source": [
    "x='Netflix '\n",
    "y='can '\n",
    "z='become '\n",
    "w='adictive.'\n",
    "x+y+z+w"
   ]
  },
  {
   "cell_type": "markdown",
   "id": "2d8a7765-ea3d-4a95-b8e2-6964031873e2",
   "metadata": {},
   "source": [
    "# Bonus Task"
   ]
  },
  {
   "cell_type": "code",
   "execution_count": 67,
   "id": "9f78f435-bbee-470b-954d-a421e3414521",
   "metadata": {},
   "outputs": [
    {
     "data": {
      "text/plain": [
       "'Youhoooo Youhoooo Youhoooo Youhoooo Youhoooo Youhoooo Youhoooo Youhoooo Youhoooo Youhoooo Youhoooo Youhoooo Youhoooo Youhoooo Youhoooo Youhoooo Youhoooo Youhoooo Youhoooo Youhoooo Youhoooo Youhoooo Youhoooo Youhoooo Youhoooo Youhoooo Youhoooo Youhoooo Youhoooo Youhoooo Youhoooo Youhoooo Youhoooo Youhoooo Youhoooo Youhoooo Youhoooo Youhoooo Youhoooo Youhoooo Youhoooo Youhoooo Youhoooo Youhoooo Youhoooo Youhoooo Youhoooo Youhoooo Youhoooo Youhoooo Youhoooo Youhoooo Youhoooo Youhoooo Youhoooo Youhoooo Youhoooo Youhoooo Youhoooo Youhoooo Youhoooo Youhoooo Youhoooo Youhoooo Youhoooo Youhoooo Youhoooo Youhoooo Youhoooo Youhoooo Youhoooo Youhoooo Youhoooo Youhoooo Youhoooo Youhoooo Youhoooo Youhoooo Youhoooo Youhoooo Youhoooo Youhoooo Youhoooo Youhoooo Youhoooo Youhoooo Youhoooo Youhoooo Youhoooo Youhoooo Youhoooo Youhoooo Youhoooo Youhoooo Youhoooo Youhoooo Youhoooo Youhoooo Youhoooo Youhoooo '"
      ]
     },
     "execution_count": 67,
     "metadata": {},
     "output_type": "execute_result"
    }
   ],
   "source": [
    "x='Youhoooo '\n",
    "x*100"
   ]
  },
  {
   "cell_type": "code",
   "execution_count": null,
   "id": "2829fff5-31fb-4830-a21c-4721a090c3e6",
   "metadata": {},
   "outputs": [],
   "source": []
  }
 ],
 "metadata": {
  "kernelspec": {
   "display_name": "Python 3 (ipykernel)",
   "language": "python",
   "name": "python3"
  },
  "language_info": {
   "codemirror_mode": {
    "name": "ipython",
    "version": 3
   },
   "file_extension": ".py",
   "mimetype": "text/x-python",
   "name": "python",
   "nbconvert_exporter": "python",
   "pygments_lexer": "ipython3",
   "version": "3.12.4"
  }
 },
 "nbformat": 4,
 "nbformat_minor": 5
}
